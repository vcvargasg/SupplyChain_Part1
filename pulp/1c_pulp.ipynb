{
 "cells": [
  {
   "cell_type": "markdown",
   "metadata": {},
   "source": [
    "# Linear and MIP\n",
    "Fuente:\n",
    "https://www.kaggle.com/fhshawon/the-american-steel-problem-for-the-pulp-modeller/data:\n",
    "\n",
    "Optimización de costo de rutas de transporte"
   ]
  },
  {
   "cell_type": "code",
   "execution_count": 1,
   "metadata": {},
   "outputs": [
    {
     "name": "stdout",
     "output_type": "stream",
     "text": [
      "Requirement already satisfied: pulp in c:\\programdata\\miniconda3\\lib\\site-packages (2.0)\n",
      "Requirement already satisfied: pyparsing>=2.0.1 in c:\\programdata\\miniconda3\\lib\\site-packages (from pulp) (2.4.0)\n",
      "Note: you may need to restart the kernel to use updated packages.\n"
     ]
    }
   ],
   "source": [
    "pip install pulp"
   ]
  },
  {
   "cell_type": "code",
   "execution_count": 2,
   "metadata": {},
   "outputs": [],
   "source": [
    "from pulp import *\n",
    "\n",
    "warnings.filterwarnings('ignore') # Para evitar los molestos avisos.\n",
    "\n",
    "import warnings\n",
    "\n",
    "# List of all the nodes\n",
    "Nodes = [\"Youngstown\",\n",
    "         \"Pittsburgh\",\n",
    "         \"Cincinatti\",\n",
    "         \"Kansas City\",\n",
    "         \"Chicago\",\n",
    "         \"Albany\",\n",
    "         \"Houston\",\n",
    "         \"Tempe\",\n",
    "         \"Gary\"]\n",
    "\n",
    "nodeData = {# NODE        Supply Demand\n",
    "         \"Youngstown\":    [10000,0],\n",
    "         \"Pittsburgh\":    [15000,0],\n",
    "         \"Cincinatti\":    [0,0],\n",
    "         \"Kansas City\":   [0,0],\n",
    "         \"Chicago\":       [0,0],\n",
    "         \"Albany\":        [0,3000],\n",
    "         \"Houston\":       [0,7000],\n",
    "         \"Tempe\":         [0,4000],\n",
    "         \"Gary\":          [0,6000]}\n",
    "\n",
    "# List of all the arcs\n",
    "Arcs = [(\"Youngstown\",\"Albany\"),\n",
    "        (\"Youngstown\",\"Cincinatti\"),\n",
    "        (\"Youngstown\",\"Kansas City\"),\n",
    "        (\"Youngstown\",\"Chicago\"),\n",
    "        (\"Pittsburgh\",\"Cincinatti\"),\n",
    "        (\"Pittsburgh\",\"Kansas City\"),\n",
    "        (\"Pittsburgh\",\"Chicago\"),\n",
    "        (\"Pittsburgh\",\"Gary\"),\n",
    "        (\"Cincinatti\",\"Albany\"),\n",
    "        (\"Cincinatti\",\"Houston\"),\n",
    "        (\"Kansas City\",\"Houston\"),\n",
    "        (\"Kansas City\",\"Tempe\"),\n",
    "        (\"Chicago\",\"Tempe\"),\n",
    "        (\"Chicago\",\"Gary\")]\n",
    "\n",
    "arcData = { #      ARC                Cost Min Max\n",
    "        (\"Youngstown\",\"Albany\"):      [0.5,0,1000],\n",
    "        (\"Youngstown\",\"Cincinatti\"):  [0.35,0,3000],\n",
    "        (\"Youngstown\",\"Kansas City\"): [0.45,1000,5000],\n",
    "        (\"Youngstown\",\"Chicago\"):     [0.375,0,5000],\n",
    "        (\"Pittsburgh\",\"Cincinatti\"):  [0.35,0,2000],\n",
    "        (\"Pittsburgh\",\"Kansas City\"): [0.45,2000,3000],\n",
    "        (\"Pittsburgh\",\"Chicago\"):     [0.4,0,4000],\n",
    "        (\"Pittsburgh\",\"Gary\"):        [0.45,0,2000],\n",
    "        (\"Cincinatti\",\"Albany\"):      [0.35,1000,5000],\n",
    "        (\"Cincinatti\",\"Houston\"):     [0.55,0,6000],\n",
    "        (\"Kansas City\",\"Houston\"):    [0.375,0,4000],\n",
    "        (\"Kansas City\",\"Tempe\"):      [0.65,0,4000],\n",
    "        (\"Chicago\",\"Tempe\"):          [0.6,0,2000],\n",
    "        (\"Chicago\",\"Gary\"):           [0.12,0,4000]}\n"
   ]
  },
  {
   "cell_type": "code",
   "execution_count": 3,
   "metadata": {},
   "outputs": [
    {
     "name": "stdout",
     "output_type": "stream",
     "text": [
      "Status: Optimal\n",
      "Route_('Chicago',_'Gary') = 4000.0\n",
      "Route_('Chicago',_'Tempe') = 2000.0\n",
      "Route_('Cincinatti',_'Albany') = 2000.0\n",
      "Route_('Cincinatti',_'Houston') = 3000.0\n",
      "Route_('Kansas_City',_'Houston') = 4000.0\n",
      "Route_('Kansas_City',_'Tempe') = 2000.0\n",
      "Route_('Pittsburgh',_'Chicago') = 3000.0\n",
      "Route_('Pittsburgh',_'Cincinatti') = 2000.0\n",
      "Route_('Pittsburgh',_'Gary') = 2000.0\n",
      "Route_('Pittsburgh',_'Kansas_City') = 3000.0\n",
      "Route_('Youngstown',_'Albany') = 1000.0\n",
      "Route_('Youngstown',_'Chicago') = 3000.0\n",
      "Route_('Youngstown',_'Cincinatti') = 3000.0\n",
      "Route_('Youngstown',_'Kansas_City') = 3000.0\n",
      "Total Cost of Transportation =  15005.0\n"
     ]
    }
   ],
   "source": [
    "\n",
    "# Splits the dictionaries to be more understandable\n",
    "(supply, demand) = splitDict(nodeData)\n",
    "(costs, mins, maxs) = splitDict(arcData)\n",
    "\n",
    "# Creates the boundless Variables as Integers\n",
    "vars = LpVariable.dicts(\"Route\",Arcs,None,None,LpInteger)\n",
    "\n",
    "# Creates the upper and lower bounds on the variables\n",
    "for a in Arcs:\n",
    "    vars[a].bounds(mins[a], maxs[a])\n",
    "\n",
    "# Creates the 'prob' variable to contain the problem data    \n",
    "prob = LpProblem(\"Routes Problem\",LpMinimize)\n",
    "\n",
    "# Creates the objective function\n",
    "prob += lpSum([vars[a]* costs[a] for a in Arcs]), \"Total Cost of Transport\"\n",
    "\n",
    "# Creates all problem constraints - this ensures the amount going into each node is at least equal to the amount leaving\n",
    "for n in Nodes:\n",
    "    prob += (supply[n]+ lpSum([vars[(i,j)] for (i,j) in Arcs if j == n]) >=\n",
    "             demand[n]+ lpSum([vars[(i,j)] for (i,j) in Arcs if i == n])), \"Steel Flow Conservation in Node %s\"%n\n",
    "\n",
    "# The problem data is written to an .lp file\n",
    "prob.writeLP(\"RoutesProblem.lp\")\n",
    "\n",
    "# The problem is solved using PuLP's choice of Solver\n",
    "prob.solve()\n",
    "\n",
    "# The status of the solution is printed to the screen\n",
    "print(\"Status:\", LpStatus[prob.status])\n",
    "\n",
    "# Each of the variables is printed with it's resolved optimum value\n",
    "for v in prob.variables():\n",
    "    print(v.name, \"=\", v.varValue)\n",
    "\n",
    "# The optimised objective function value is printed to the screen    \n",
    "print(\"Total Cost of Transportation = \", value(prob.objective))"
   ]
  },
  {
   "cell_type": "code",
   "execution_count": null,
   "metadata": {},
   "outputs": [],
   "source": []
  }
 ],
 "metadata": {
  "kernelspec": {
   "display_name": "Python 3",
   "language": "python",
   "name": "python3"
  },
  "language_info": {
   "codemirror_mode": {
    "name": "ipython",
    "version": 3
   },
   "file_extension": ".py",
   "mimetype": "text/x-python",
   "name": "python",
   "nbconvert_exporter": "python",
   "pygments_lexer": "ipython3",
   "version": "3.7.3"
  }
 },
 "nbformat": 4,
 "nbformat_minor": 2
}
