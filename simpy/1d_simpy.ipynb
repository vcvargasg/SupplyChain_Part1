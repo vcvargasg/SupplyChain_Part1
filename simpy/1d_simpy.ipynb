{
 "cells": [
  {
   "cell_type": "markdown",
   "metadata": {},
   "source": [
    "# Simulacion de eventos\n",
    "Atención de clientes en una oficina\n"
   ]
  },
  {
   "cell_type": "markdown",
   "metadata": {},
   "source": [
    "![title](simulacion.png)"
   ]
  },
  {
   "cell_type": "code",
   "execution_count": 1,
   "metadata": {},
   "outputs": [
    {
     "name": "stdout",
     "output_type": "stream",
     "text": [
      "Requirement already satisfied: Simpy in c:\\programdata\\miniconda3\\lib\\site-packages (3.0.11)\n",
      "Note: you may need to restart the kernel to use updated packages.\n"
     ]
    }
   ],
   "source": [
    "pip install Simpy"
   ]
  },
  {
   "cell_type": "code",
   "execution_count": 2,
   "metadata": {},
   "outputs": [
    {
     "name": "stdout",
     "output_type": "stream",
     "text": [
      "Requirement already satisfied: progress in c:\\programdata\\miniconda3\\lib\\site-packages (1.5)\n",
      "Note: you may need to restart the kernel to use updated packages.\n"
     ]
    }
   ],
   "source": [
    "pip install progress"
   ]
  },
  {
   "cell_type": "code",
   "execution_count": 3,
   "metadata": {},
   "outputs": [],
   "source": [
    "import simpy as sp\n",
    "\n",
    "def customer ( self ):\n",
    "     while True :\n",
    "        print ( 'Llega un cliente  %d ' % self . now )\n",
    "        wait_duration = 5\n",
    "        yield self . timeout ( wait_duration )\n",
    "        print ( 'Empieza a atender a un cliente  %d ' % self . now )\n",
    "        service_duration = 2\n",
    "        yield self . timeout ( service_duration )"
   ]
  },
  {
   "cell_type": "code",
   "execution_count": 4,
   "metadata": {},
   "outputs": [
    {
     "name": "stdout",
     "output_type": "stream",
     "text": [
      "Llega un cliente  0 \n",
      "Empieza a atender a un cliente  5 \n",
      "Llega un cliente  7 \n",
      "Empieza a atender a un cliente  12 \n",
      "Llega un cliente  14 \n",
      "Empieza a atender a un cliente  19 \n",
      "Llega un cliente  21 \n",
      "Empieza a atender a un cliente  26 \n",
      "Llega un cliente  28 \n",
      "Empieza a atender a un cliente  33 \n"
     ]
    }
   ],
   "source": [
    "env = sp.Environment()\n",
    "env.process(customer(env))\n",
    "env.run(until=35)"
   ]
  },
  {
   "cell_type": "code",
   "execution_count": null,
   "metadata": {},
   "outputs": [],
   "source": []
  }
 ],
 "metadata": {
  "kernelspec": {
   "display_name": "Python 3",
   "language": "python",
   "name": "python3"
  },
  "language_info": {
   "codemirror_mode": {
    "name": "ipython",
    "version": 3
   },
   "file_extension": ".py",
   "mimetype": "text/x-python",
   "name": "python",
   "nbconvert_exporter": "python",
   "pygments_lexer": "ipython3",
   "version": "3.7.3"
  }
 },
 "nbformat": 4,
 "nbformat_minor": 2
}
